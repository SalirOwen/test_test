{
 "cells": [
  {
   "cell_type": "markdown",
   "id": "7ccd34db",
   "metadata": {},
   "source": [
    "### 複合指定運算子\n",
    "- \\+=\n",
    "- \\-=\n",
    "- \\*=\n",
    "- /=\n",
    "- //=\n",
    "- %=\n",
    "- **="
   ]
  },
  {
   "cell_type": "code",
   "execution_count": 1,
   "id": "ae2f734f",
   "metadata": {},
   "outputs": [
    {
     "name": "stdout",
     "output_type": "stream",
     "text": [
      "15\n"
     ]
    }
   ],
   "source": [
    "n = 5\n",
    "n = n + 10\n",
    "print(n)"
   ]
  },
  {
   "cell_type": "code",
   "execution_count": null,
   "id": "e1018068",
   "metadata": {},
   "outputs": [
    {
     "name": "stdout",
     "output_type": "stream",
     "text": [
      "15\n"
     ]
    }
   ],
   "source": [
    "n = 5\n",
    "n += 10 #複合指定運算子\n",
    "print(n)"
   ]
  },
  {
   "cell_type": "markdown",
   "id": "9966d474",
   "metadata": {},
   "source": [
    "## math.sqrt平方根"
   ]
  },
  {
   "cell_type": "code",
   "execution_count": 3,
   "id": "4842a3f1",
   "metadata": {},
   "outputs": [
    {
     "name": "stdout",
     "output_type": "stream",
     "text": [
      "鄰邊: 3\n",
      "對邊: 4\n",
      "斜邊: 5.0\n"
     ]
    }
   ],
   "source": [
    "#國中數學\n",
    "import math\n",
    "side = eval(input(\"請輸入鄰邊\"))\n",
    "another_side = eval(input(\"請輸入對邊\"))\n",
    "result = math.sqrt(side ** 2 + another_side ** 2)\n",
    "print(\"鄰邊:\",side)\n",
    "print(\"對邊:\",another_side)\n",
    "print(\"斜邊:\",result)"
   ]
  },
  {
   "cell_type": "markdown",
   "id": "4f833253",
   "metadata": {},
   "source": [
    "### math.asin是弳度,math.degrees是弳度轉換角度"
   ]
  },
  {
   "cell_type": "code",
   "execution_count": 9,
   "id": "457ccacc",
   "metadata": {},
   "outputs": [
    {
     "name": "stdout",
     "output_type": "stream",
     "text": [
      "對邊: 2.5\n",
      "斜邊: 5\n",
      "角度是: 30.000000000000004\n"
     ]
    }
   ],
   "source": [
    "# 高中數學\n",
    "side = eval(input(\"請輸入對邊\"))\n",
    "another_side = eval(input(\"請輸入斜邊\"))\n",
    "radian = math.asin(side/another_side)\n",
    "degree = math.degrees(radian)\n",
    "\n",
    "print(\"對邊:\",side)\n",
    "print(\"斜邊:\",another_side)\n",
    "print(\"角度是:\",degree)\n"
   ]
  },
  {
   "cell_type": "code",
   "execution_count": null,
   "id": "13885371",
   "metadata": {},
   "outputs": [],
   "source": [
    "#字串插補(字串格式化)\n",
    "## 開頭要f，大刮號(字串)\n",
    "# f\"文字{}"
   ]
  },
  {
   "cell_type": "code",
   "execution_count": 10,
   "id": "46aecac5",
   "metadata": {},
   "outputs": [
    {
     "name": "stdout",
     "output_type": "stream",
     "text": [
      "國文成績:92,數學成績:100\n"
     ]
    }
   ],
   "source": [
    "#字串和變數整合,成為全新的字串\n",
    "chinese = 92\n",
    "math = 100\n",
    "print(\"國文成績:\" + str(chinese) + \",數學成績:\" + str(math))"
   ]
  },
  {
   "cell_type": "code",
   "execution_count": 11,
   "id": "fc793548",
   "metadata": {},
   "outputs": [
    {
     "name": "stdout",
     "output_type": "stream",
     "text": [
      "國文成績:92,數學成績:100\n"
     ]
    }
   ],
   "source": [
    "chinese = 92\n",
    "math = 100\n",
    "print(f\"國文成績:{chinese},數學成績:{math}\")"
   ]
  },
  {
   "cell_type": "markdown",
   "id": "1510f037",
   "metadata": {},
   "source": [
    "### 字串插補裡，{:.2f}是取小數點後2位"
   ]
  },
  {
   "cell_type": "code",
   "execution_count": 12,
   "id": "0a3a37ed",
   "metadata": {},
   "outputs": [
    {
     "name": "stdout",
     "output_type": "stream",
     "text": [
      "國文成績:92.38,數學成績:100\n"
     ]
    }
   ],
   "source": [
    "chinese = 92.3756\n",
    "math = 100\n",
    "print(f\"國文成績:{chinese:.2f},數學成績:{math}\")"
   ]
  },
  {
   "cell_type": "code",
   "execution_count": 21,
   "id": "02057273",
   "metadata": {},
   "outputs": [
    {
     "ename": "AttributeError",
     "evalue": "'int' object has no attribute 'asin'",
     "output_type": "error",
     "traceback": [
      "\u001b[31m---------------------------------------------------------------------------\u001b[39m",
      "\u001b[31mAttributeError\u001b[39m                            Traceback (most recent call last)",
      "\u001b[36mCell\u001b[39m\u001b[36m \u001b[39m\u001b[32mIn[21]\u001b[39m\u001b[32m, line 4\u001b[39m\n\u001b[32m      2\u001b[39m side = \u001b[38;5;28meval\u001b[39m(\u001b[38;5;28minput\u001b[39m(\u001b[33m\"\u001b[39m\u001b[33m請輸入對邊\u001b[39m\u001b[33m\"\u001b[39m))\n\u001b[32m      3\u001b[39m another_side = \u001b[38;5;28meval\u001b[39m(\u001b[38;5;28minput\u001b[39m(\u001b[33m\"\u001b[39m\u001b[33m請輸入斜邊\u001b[39m\u001b[33m\"\u001b[39m))\n\u001b[32m----> \u001b[39m\u001b[32m4\u001b[39m radian = \u001b[43mmath\u001b[49m\u001b[43m.\u001b[49m\u001b[43masin\u001b[49m(side/another_side)\n\u001b[32m      5\u001b[39m degree = math.degrees(radian)\n\u001b[32m      7\u001b[39m \u001b[38;5;28mprint\u001b[39m(\u001b[33mf\u001b[39m\u001b[33m\"\u001b[39m\u001b[33m對邊:\u001b[39m\u001b[38;5;132;01m{\u001b[39;00mside\u001b[38;5;132;01m}\u001b[39;00m\u001b[33m\"\u001b[39m)\n",
      "\u001b[31mAttributeError\u001b[39m: 'int' object has no attribute 'asin'"
     ]
    }
   ],
   "source": [
    "# 高中數學\n",
    "side = eval(input(\"請輸入對邊\"))\n",
    "another_side = eval(input(\"請輸入斜邊\"))\n",
    "radian = math.asin(side/another_side)\n",
    "degree = math.degrees(radian)\n",
    "\n",
    "print(f\"對邊:{side}\")\n",
    "print(f\"斜邊:{another_side}\")\n",
    "print(f\"角度是:{degree:.2f}\")"
   ]
  }
 ],
 "metadata": {
  "kernelspec": {
   "display_name": "base",
   "language": "python",
   "name": "python3"
  },
  "language_info": {
   "codemirror_mode": {
    "name": "ipython",
    "version": 3
   },
   "file_extension": ".py",
   "mimetype": "text/x-python",
   "name": "python",
   "nbconvert_exporter": "python",
   "pygments_lexer": "ipython3",
   "version": "3.12.9"
  }
 },
 "nbformat": 4,
 "nbformat_minor": 5
}
