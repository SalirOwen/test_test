{
 "cells": [
  {
   "cell_type": "markdown",
   "id": "c2aefcb9",
   "metadata": {},
   "source": [
    "[說明連結](https://www.perplexity.ai/search/8a22aac5-dc37-4bbb-bb81-9edfdd6f0e53)"
   ]
  },
  {
   "cell_type": "code",
   "execution_count": 1,
   "id": "67b3638c",
   "metadata": {},
   "outputs": [
    {
     "name": "stdout",
     "output_type": "stream",
     "text": [
      "  1.陳信宏\n",
      "  2.葉志峰\n",
      "  3.李佳彥\n"
     ]
    }
   ],
   "source": [
    "import random\n",
    "\n",
    "file = open(\"names.txt\",encoding='utf-8')\n",
    "contents:list[str] = file.readlines()\n",
    "file.close()\n",
    "names:list[str] = [name.strip() for name in contents]\n",
    "pick = int(input(\"請輸入所需要的姓名數量:\"));\n",
    "\n",
    "for i in range(0, pick):\n",
    "    index = random.randint(0, len(names));\n",
    "    print(f\"{i+1:3d}.{names[index]}\");\n",
    "\n",
    "file.close();"
   ]
  },
  {
   "cell_type": "code",
   "execution_count": 2,
   "id": "37ade7ac",
   "metadata": {},
   "outputs": [
    {
     "name": "stdout",
     "output_type": "stream",
     "text": [
      "1.簡佳樺\n",
      "2.林義皓\n",
      "3.李湘婷\n"
     ]
    }
   ],
   "source": [
    "import random\n",
    "\n",
    "file = open(\"names.txt\",encoding='utf-8')\n",
    "contents:list[str] = file.readlines()\n",
    "file.close()\n",
    "names:list[str] = [name.strip() for name in contents]\n",
    "pick = int(input(\"請輸入所需要的姓名數量:\"));\n",
    "\n",
    "for idx, name in enumerate(random.sample(names, pick)):\n",
    "    print(f'{idx+1}.{name}')"
   ]
  },
  {
   "cell_type": "markdown",
   "id": "3bae22f2",
   "metadata": {},
   "source": [
    "### 建立記憶體的表格資料"
   ]
  },
  {
   "cell_type": "code",
   "execution_count": 14,
   "id": "d9526a3e",
   "metadata": {},
   "outputs": [
    {
     "data": {
      "text/plain": [
       "[{'姓名': '林冠蕙', '國文': 80, '英文': 56, '數學': 89},\n",
       " {'姓名': '張凡成', '國文': 64, '英文': 96, '數學': 67},\n",
       " {'姓名': '楊火帆', '國文': 79, '英文': 90, '數學': 90},\n",
       " {'姓名': '李政白', '國文': 67, '英文': 58, '數學': 75},\n",
       " {'姓名': '李進慧', '國文': 53, '英文': 77, '數學': 99},\n",
       " {'姓名': '吳明妮', '國文': 86, '英文': 71, '數學': 86},\n",
       " {'姓名': '陳彥治', '國文': 59, '英文': 53, '數學': 72},\n",
       " {'姓名': '吳昕婷', '國文': 81, '英文': 89, '數學': 53},\n",
       " {'姓名': '林佳光', '國文': 83, '英文': 60, '數學': 53},\n",
       " {'姓名': '黃江旭', '國文': 64, '英文': 66, '數學': 73},\n",
       " {'姓名': '林向鈺', '國文': 53, '英文': 88, '數學': 93},\n",
       " {'姓名': '尚偉倫', '國文': 99, '英文': 80, '數學': 50},\n",
       " {'姓名': '簡美君', '國文': 85, '英文': 94, '數學': 71},\n",
       " {'姓名': '張婕妤', '國文': 63, '英文': 99, '數學': 92},\n",
       " {'姓名': '林義皓', '國文': 71, '英文': 99, '數學': 88},\n",
       " {'姓名': '翁鈺婷', '國文': 88, '英文': 76, '數學': 64},\n",
       " {'姓名': '黃偉剛', '國文': 97, '英文': 91, '數學': 53},\n",
       " {'姓名': '吳柏誠', '國文': 83, '英文': 91, '數學': 54},\n",
       " {'姓名': '王怡君', '國文': 85, '英文': 79, '數學': 63},\n",
       " {'姓名': '高智超', '國文': 96, '英文': 75, '數學': 64},\n",
       " {'姓名': '趙偉銘', '國文': 59, '英文': 80, '數學': 63},\n",
       " {'姓名': '盧文啟', '國文': 97, '英文': 86, '數學': 70},\n",
       " {'姓名': '吳志宣', '國文': 92, '英文': 94, '數學': 53},\n",
       " {'姓名': '李淑芳', '國文': 100, '英文': 93, '數學': 65},\n",
       " {'姓名': '賴昌韻', '國文': 69, '英文': 81, '數學': 56},\n",
       " {'姓名': '黃雅慧', '國文': 88, '英文': 87, '數學': 62},\n",
       " {'姓名': '邱亭君', '國文': 75, '英文': 93, '數學': 69},\n",
       " {'姓名': '胡芳瑜', '國文': 89, '英文': 62, '數學': 58},\n",
       " {'姓名': '蔡嘉音', '國文': 74, '英文': 86, '數學': 63},\n",
       " {'姓名': '蔡士賢', '國文': 89, '英文': 63, '數學': 81},\n",
       " {'姓名': '蘇凡菁', '國文': 73, '英文': 73, '數學': 87},\n",
       " {'姓名': '鄭淑珍', '國文': 65, '英文': 92, '數學': 78},\n",
       " {'姓名': '賴佳雯', '國文': 90, '英文': 94, '數學': 70},\n",
       " {'姓名': '李彥伸', '國文': 53, '英文': 66, '數學': 52},\n",
       " {'姓名': '李湘婷', '國文': 79, '英文': 66, '數學': 66},\n",
       " {'姓名': '王柏聖', '國文': 60, '英文': 90, '數學': 76},\n",
       " {'姓名': '錢佩豪', '國文': 72, '英文': 63, '數學': 80},\n",
       " {'姓名': '姜琬婷', '國文': 94, '英文': 88, '數學': 75},\n",
       " {'姓名': '李立偉', '國文': 96, '英文': 61, '數學': 70},\n",
       " {'姓名': '唐雪豪', '國文': 78, '英文': 69, '數學': 81},\n",
       " {'姓名': '簡國瑋', '國文': 68, '英文': 52, '數學': 89},\n",
       " {'姓名': '彭虹屏', '國文': 91, '英文': 85, '數學': 95},\n",
       " {'姓名': '陳文賢', '國文': 52, '英文': 55, '數學': 74},\n",
       " {'姓名': '鄭佳玲', '國文': 55, '英文': 80, '數學': 92},\n",
       " {'姓名': '陳建香', '國文': 76, '英文': 82, '數學': 89},\n",
       " {'姓名': '黃心航', '國文': 86, '英文': 81, '數學': 99},\n",
       " {'姓名': '黃必琪', '國文': 53, '英文': 86, '數學': 100},\n",
       " {'姓名': '金宜芳', '國文': 100, '英文': 68, '數學': 58},\n",
       " {'姓名': '高信宏', '國文': 61, '英文': 53, '數學': 89},\n",
       " {'姓名': '劉林中', '國文': 51, '英文': 74, '數學': 57}]"
      ]
     },
     "execution_count": 14,
     "metadata": {},
     "output_type": "execute_result"
    }
   ],
   "source": [
    "import random\n",
    "\n",
    "with open(\"names.txt\",encoding='utf-8') as file:\n",
    "    contents:list[str] = file.readlines()\n",
    "\n",
    "names:list[str] = [name.strip() for name in contents]\n",
    "pick = int(input(\"請輸入所需要的姓名數量:\"));\n",
    "\n",
    "selected_names = random.sample(names, pick)\n",
    "students_data:list[dict] = [\n",
    "    {\n",
    "        '姓名':name,\n",
    "        '國文':random.randint(50,100),\n",
    "        '英文':random.randint(50,100),\n",
    "        '數學':random.randint(50,100) \n",
    "    }\n",
    "    for name in selected_names]\n",
    "students_data"
   ]
  },
  {
   "cell_type": "markdown",
   "id": "1a66549a",
   "metadata": {},
   "source": [
    "### 利用csv.DictWriter(),建立csv檔"
   ]
  },
  {
   "cell_type": "code",
   "execution_count": 15,
   "id": "faf10a13",
   "metadata": {},
   "outputs": [
    {
     "name": "stdout",
     "output_type": "stream",
     "text": [
      "寫入成功\n"
     ]
    }
   ],
   "source": [
    "# 指定欄位名稱（欄位順序）\n",
    "import csv\n",
    "\n",
    "filednames = students_data[0].keys()\n",
    "\n",
    "with open('students.csv','w',newline='',encoding='utf-8') as csvfile:\n",
    "    writer = csv.DictWriter(csvfile,fieldnames=filednames)\n",
    "    # 寫入欄位標題\n",
    "    writer.writeheader()\n",
    "    \n",
    "    # 寫入多筆資料\n",
    "    writer.writerows(students_data)\n",
    "print(\"寫入成功\")"
   ]
  }
 ],
 "metadata": {
  "kernelspec": {
   "display_name": "base",
   "language": "python",
   "name": "python3"
  },
  "language_info": {
   "codemirror_mode": {
    "name": "ipython",
    "version": 3
   },
   "file_extension": ".py",
   "mimetype": "text/x-python",
   "name": "python",
   "nbconvert_exporter": "python",
   "pygments_lexer": "ipython3",
   "version": "3.12.9"
  }
 },
 "nbformat": 4,
 "nbformat_minor": 5
}
