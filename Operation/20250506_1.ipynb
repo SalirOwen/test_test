{
 "cells": [
  {
   "cell_type": "code",
   "execution_count": 4,
   "id": "aa8246b3",
   "metadata": {},
   "outputs": [
    {
     "name": "stdout",
     "output_type": "stream",
     "text": [
      "你的體重是80kg\n",
      "你的身高是175cm\n",
      "你的BMI是26.12\n"
     ]
    }
   ],
   "source": [
    "kg = eval(input(\"請輸入體重(單位kg)\"))\n",
    "height = eval(input(\"請輸入身高(單位cm)\"))\n",
    "BMI = kg / (height/ 100) ** 2\n",
    "\n",
    "print(f\"你的體重是{kg}kg\")\n",
    "print(f\"你的身高是{height}cm\")\n",
    "print(f\"你的BMI是{BMI:.2f}\")"
   ]
  }
 ],
 "metadata": {
  "kernelspec": {
   "display_name": "base",
   "language": "python",
   "name": "python3"
  },
  "language_info": {
   "codemirror_mode": {
    "name": "ipython",
    "version": 3
   },
   "file_extension": ".py",
   "mimetype": "text/x-python",
   "name": "python",
   "nbconvert_exporter": "python",
   "pygments_lexer": "ipython3",
   "version": "3.12.9"
  }
 },
 "nbformat": 4,
 "nbformat_minor": 5
}
