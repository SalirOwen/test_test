{
 "cells": [
  {
   "cell_type": "code",
   "execution_count": 6,
   "id": "f3b3f496",
   "metadata": {},
   "outputs": [
    {
     "name": "stdout",
     "output_type": "stream",
     "text": [
      "你的身高是:175.0cm\n",
      "你的體重是:120.0kg\n",
      "你的BMI是39.18\n",
      "重度肥胖\n"
     ]
    }
   ],
   "source": [
    "try:\n",
    "  height:float = float(input(\"請輸入身高\"))\n",
    "  if height >= 221:\n",
    "   raise Exception(f\"你輸入身高是{height}cm，輸入身高超過220cm\")\n",
    "  elif height <= 119:\n",
    "   raise Exception(f\"你輸入身高是{height}cm，輸入身高低於120cm\")   \n",
    "\n",
    "  kg:float = float(input(\"請輸入體重\"))\n",
    "  if kg >= 201:\n",
    "   raise Exception(f\"你的體重是{kg}kg，輸入體重超過200kg\")\n",
    "  elif kg <= 29:\n",
    "   raise Exception(f\"你的體重是{kg}kg，輸入體重低於30kg\")  \n",
    "  \n",
    "except ValueError:\n",
    " print(\"輸入錯誤，look my eyes!!Are you serious?\")\n",
    "except Exception as e:\n",
    " print(e)\n",
    "\n",
    "else:\n",
    " BMI = kg / (height/ 100) ** 2\n",
    " print(f\"你的身高是:{height}cm\") \n",
    " print(f\"你的體重是:{kg}kg\")\n",
    " print(f\"你的BMI是{BMI:.2f}\")\n",
    "\n",
    " if BMI >= 35.01:\n",
    "  print(\"重度肥胖\")\n",
    " elif BMI >= 30.01:\n",
    "  print(\"中度肥胖\")\n",
    " elif BMI >= 27.01:\n",
    "  print(\"輕度肥胖\")\n",
    " elif BMI >=24.01:\n",
    "  print(\"體重過重\")\n",
    " elif BMI >18.5:\n",
    "  print(\"正常體重\") \n",
    " else:\n",
    "  print(\"體重過輕\") "
   ]
  }
 ],
 "metadata": {
  "kernelspec": {
   "display_name": "base",
   "language": "python",
   "name": "python3"
  },
  "language_info": {
   "codemirror_mode": {
    "name": "ipython",
    "version": 3
   },
   "file_extension": ".py",
   "mimetype": "text/x-python",
   "name": "python",
   "nbconvert_exporter": "python",
   "pygments_lexer": "ipython3",
   "version": "3.12.9"
  }
 },
 "nbformat": 4,
 "nbformat_minor": 5
}
