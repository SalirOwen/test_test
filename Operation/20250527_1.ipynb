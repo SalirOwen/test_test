{
 "cells": [
  {
   "cell_type": "code",
   "execution_count": 12,
   "id": "0746c4cc",
   "metadata": {},
   "outputs": [
    {
     "name": "stdout",
     "output_type": "stream",
     "text": [
      "\n",
      "抽取結果：\n",
      "朱\n",
      "\n",
      "\n",
      "\n",
      "\n",
      "\n",
      "怡\n",
      "嘉\n",
      "黃\n",
      "亭\n"
     ]
    }
   ],
   "source": [
    "import random\n",
    "\n",
    "file = open('names.txt',encoding='utf-8')\n",
    "content:str = file.read()\n",
    "file.close()\n",
    "names:list[str] = [name.strip() for name in content]\n",
    "\n",
    "\n",
    "\n",
    "k = int(input(\"請輸入想抽取的行數：\"))\n",
    "\n",
    "random_lines = random.sample(names, k)\n",
    "\n",
    "print(\"\\n抽取結果：\")\n",
    "for line in random_lines:\n",
    "    print(line.strip())\n"
   ]
  }
 ],
 "metadata": {
  "kernelspec": {
   "display_name": "base",
   "language": "python",
   "name": "python3"
  },
  "language_info": {
   "codemirror_mode": {
    "name": "ipython",
    "version": 3
   },
   "file_extension": ".py",
   "mimetype": "text/x-python",
   "name": "python",
   "nbconvert_exporter": "python",
   "pygments_lexer": "ipython3",
   "version": "3.12.9"
  }
 },
 "nbformat": 4,
 "nbformat_minor": 5
}
