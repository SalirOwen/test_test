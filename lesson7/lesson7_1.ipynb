{
 "cells": [
  {
   "cell_type": "markdown",
   "id": "aa1cf98c",
   "metadata": {},
   "source": [
    "### function的呼叫方式"
   ]
  },
  {
   "cell_type": "markdown",
   "id": "baa5499b",
   "metadata": {},
   "source": [
    "### 引數值的呼叫\n",
    "- 要依照參數的順序\n"
   ]
  },
  {
   "cell_type": "code",
   "execution_count": 14,
   "id": "09fa0d6c",
   "metadata": {},
   "outputs": [],
   "source": [
    "def menu(wine, entree, dessert):\n",
    "    print(f\"前酒:{wine}\")\n",
    "    print(f\"主餐:{entree}\")\n",
    "    print(f\"甜點:{dessert}\")"
   ]
  },
  {
   "cell_type": "code",
   "execution_count": 15,
   "id": "166bb016",
   "metadata": {},
   "outputs": [
    {
     "name": "stdout",
     "output_type": "stream",
     "text": [
      "前酒:白酒\n",
      "主餐:牛排\n",
      "甜點:蛋糕\n"
     ]
    }
   ],
   "source": [
    "# 引數值的呼叫\n",
    "menu(\"白酒\", \"牛排\", \"蛋糕\")"
   ]
  },
  {
   "cell_type": "markdown",
   "id": "996d7d9f",
   "metadata": {},
   "source": [
    "### 引數名稱的呼叫\n",
    " - 使用參數的名稱當作引數名稱\n",
    " - 可以不依照參數的順序"
   ]
  },
  {
   "cell_type": "code",
   "execution_count": null,
   "id": "0ac071c4",
   "metadata": {},
   "outputs": [],
   "source": [
    "def menu(wine, entree, dessert):\n",
    "    print(f\"前酒:{wine}\")\n",
    "    print(f\"主餐:{entree}\")\n",
    "    print(f\"甜點:{dessert}\")"
   ]
  },
  {
   "cell_type": "code",
   "execution_count": 16,
   "id": "cbaf7777",
   "metadata": {},
   "outputs": [
    {
     "name": "stdout",
     "output_type": "stream",
     "text": [
      "前酒:白酒\n",
      "主餐:白酒\n",
      "甜點:蛋糕\n"
     ]
    }
   ],
   "source": [
    "menu(wine=\"白酒\" ,entree=\"白酒\" ,dessert=\"蛋糕\")"
   ]
  },
  {
   "cell_type": "code",
   "execution_count": 17,
   "id": "4dd1b2fb",
   "metadata": {},
   "outputs": [
    {
     "name": "stdout",
     "output_type": "stream",
     "text": [
      "前酒:白酒\n",
      "主餐:牛排\n",
      "甜點:蛋糕\n"
     ]
    }
   ],
   "source": [
    "menu(entree='牛排',dessert='蛋糕',wine='白酒')"
   ]
  },
  {
   "cell_type": "markdown",
   "id": "5cb147f3",
   "metadata": {},
   "source": [
    "### 混和呼叫\n",
    "- 前面一定先用引數值(位置),後面引數名稱呼叫\n",
    "- 使用引數名稱呼叫後,後面全部要使用引數名稱呼叫"
   ]
  },
  {
   "cell_type": "code",
   "execution_count": null,
   "id": "5f0feabc",
   "metadata": {},
   "outputs": [],
   "source": [
    "def menu(wine, entree, dessert):\n",
    "    print(f\"前酒:{wine}\")\n",
    "    print(f\"主餐:{entree}\")\n",
    "    print(f\"甜點:{dessert}\")"
   ]
  },
  {
   "cell_type": "code",
   "execution_count": 18,
   "id": "9a06df36",
   "metadata": {},
   "outputs": [
    {
     "name": "stdout",
     "output_type": "stream",
     "text": [
      "前酒:白酒\n",
      "主餐:牛排\n",
      "甜點:蛋糕\n"
     ]
    }
   ],
   "source": [
    "menu(\"白酒\" ,entree=\"牛排\" ,dessert=\"蛋糕\")"
   ]
  },
  {
   "cell_type": "code",
   "execution_count": 19,
   "id": "6770a9ff",
   "metadata": {},
   "outputs": [
    {
     "name": "stdout",
     "output_type": "stream",
     "text": [
      "前酒:白酒\n",
      "主餐:牛排\n",
      "甜點:蛋糕\n"
     ]
    }
   ],
   "source": [
    "menu(\"白酒\"  ,dessert=\"蛋糕\" ,entree=\"牛排\")"
   ]
  },
  {
   "cell_type": "markdown",
   "id": "ef87ed10",
   "metadata": {},
   "source": [
    "### 定義參數時,指定參數的預設值\n",
    "- 有預設值的參數,一定要定義在最後面"
   ]
  },
  {
   "cell_type": "code",
   "execution_count": 20,
   "id": "ad5b71ec",
   "metadata": {},
   "outputs": [],
   "source": [
    "def menu(wine, entree, dessert=\"奶昔\"):\n",
    "    print(f\"前酒:{wine}\")\n",
    "    print(f\"主餐:{entree}\")\n",
    "    print(f\"甜點:{dessert}\")"
   ]
  },
  {
   "cell_type": "markdown",
   "id": "74ab94f6",
   "metadata": {},
   "source": [
    "### 呼叫時可以省略有預設值的參數"
   ]
  },
  {
   "cell_type": "code",
   "execution_count": 21,
   "id": "5170f71b",
   "metadata": {},
   "outputs": [
    {
     "name": "stdout",
     "output_type": "stream",
     "text": [
      "前酒:紅酒\n",
      "主餐:牛排\n",
      "甜點:奶昔\n"
     ]
    }
   ],
   "source": [
    "menu(\"紅酒\",\"牛排\")"
   ]
  },
  {
   "cell_type": "markdown",
   "id": "ba5a1f2a",
   "metadata": {},
   "source": [
    "### 呼叫時可以取代有預設值的參數"
   ]
  },
  {
   "cell_type": "code",
   "execution_count": 22,
   "id": "984672a7",
   "metadata": {},
   "outputs": [
    {
     "name": "stdout",
     "output_type": "stream",
     "text": [
      "前酒:紅酒\n",
      "主餐:牛排\n",
      "甜點:蛋糕\n"
     ]
    }
   ],
   "source": [
    "menu(\"紅酒\",\"牛排\",dessert=\"蛋糕\")"
   ]
  },
  {
   "cell_type": "markdown",
   "id": "aba4ec07",
   "metadata": {},
   "source": [
    "### *參數名稱\n",
    "- 沒有限定數量的引數值的呼叫,也可以0個引數值\n",
    "- 大部分在前面\n",
    "- 參數名稱可以任意名稱"
   ]
  },
  {
   "cell_type": "code",
   "execution_count": 23,
   "id": "24daadff",
   "metadata": {},
   "outputs": [],
   "source": [
    "def print_args(*args):\n",
    "    #args是tuple\n",
    "    print(args)"
   ]
  },
  {
   "cell_type": "markdown",
   "id": "06849fa5",
   "metadata": {},
   "source": [
    "#tuple是把一組數值包再一起,使用小括號()\n",
    "(1, 3, 5, 7, 9)"
   ]
  },
  {
   "cell_type": "code",
   "execution_count": 25,
   "id": "8b33de09",
   "metadata": {},
   "outputs": [
    {
     "name": "stdout",
     "output_type": "stream",
     "text": [
      "('a', 'b', 'c', 1, 2, 3, True, False)\n"
     ]
    }
   ],
   "source": [
    "print_args(\"a\",\"b\",\"c\", 1, 2, 3, True,False)"
   ]
  },
  {
   "cell_type": "markdown",
   "id": "15144247",
   "metadata": {},
   "source": [
    "### **參數名稱\n",
    "- 大部分放在後面\n",
    "- 沒有限定數量的引數名稱呼叫,沒有限定數量代表可以0個\n",
    "- 參數名稱可以任意名稱"
   ]
  },
  {
   "cell_type": "code",
   "execution_count": 26,
   "id": "c55074f3",
   "metadata": {},
   "outputs": [],
   "source": [
    "def print_kwargs(**kwargs):\n",
    "    #kwargs是dictionary\n",
    "    print(kwargs)"
   ]
  },
  {
   "cell_type": "code",
   "execution_count": 27,
   "id": "56fcda31",
   "metadata": {},
   "outputs": [
    {
     "name": "stdout",
     "output_type": "stream",
     "text": [
      "{'one': 1, 'two': 2, 'three': 3, 'four': 4, 'five': 5}\n"
     ]
    }
   ],
   "source": [
    "print_kwargs(one=1,two=2,three=3,four=4,five=5)"
   ]
  },
  {
   "cell_type": "markdown",
   "id": "cb594a32",
   "metadata": {},
   "source": [
    "### 混合*args,**kwargs"
   ]
  },
  {
   "cell_type": "code",
   "execution_count": 29,
   "id": "99c2f2a8",
   "metadata": {},
   "outputs": [],
   "source": [
    "def print_mixed(*args, **kwargs):\n",
    "    print(args)\n",
    "    print(kwargs)"
   ]
  },
  {
   "cell_type": "code",
   "execution_count": 30,
   "id": "6b53128e",
   "metadata": {},
   "outputs": [
    {
     "name": "stdout",
     "output_type": "stream",
     "text": [
      "('a', 'b', 1, 2, True, False)\n",
      "{'one': 1, 'two': 2, 'three': 3, 'four': 4}\n"
     ]
    }
   ],
   "source": [
    "print_mixed(\"a\",'b', 1, 2, True, False,\n",
    "            one=1,\n",
    "            two=2,\n",
    "            three=3,\n",
    "            four=4)"
   ]
  }
 ],
 "metadata": {
  "kernelspec": {
   "display_name": "base",
   "language": "python",
   "name": "python3"
  },
  "language_info": {
   "codemirror_mode": {
    "name": "ipython",
    "version": 3
   },
   "file_extension": ".py",
   "mimetype": "text/x-python",
   "name": "python",
   "nbconvert_exporter": "python",
   "pygments_lexer": "ipython3",
   "version": "3.12.9"
  }
 },
 "nbformat": 4,
 "nbformat_minor": 5
}
