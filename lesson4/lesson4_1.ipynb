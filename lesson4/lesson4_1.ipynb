{
 "cells": [
  {
   "cell_type": "markdown",
   "id": "d4b9604c",
   "metadata": {},
   "source": [
    "### if同時"
   ]
  },
  {
   "cell_type": "code",
   "execution_count": 1,
   "id": "16285e12",
   "metadata": {},
   "outputs": [
    {
     "name": "stdout",
     "output_type": "stream",
     "text": [
      "數值在120~220\n"
     ]
    }
   ],
   "source": [
    "value:int = int(input(\"請輸入一個數值:\"))\n",
    "if value >= 120:\n",
    "    if value <= 220:\n",
    "        print(\"數值在120~220\")"
   ]
  },
  {
   "cell_type": "markdown",
   "id": "7fb82608",
   "metadata": {},
   "source": [
    "### if個別"
   ]
  },
  {
   "cell_type": "code",
   "execution_count": null,
   "id": "e405cb40",
   "metadata": {},
   "outputs": [],
   "source": [
    "value:int = int(input(\"請輸入一個數值:\"))\n",
    "if value < 120:\n",
    "    print(\"小於120\")\n",
    "\n",
    "if value > 220    \n",
    "    print(\"大於220\")"
   ]
  },
  {
   "cell_type": "markdown",
   "id": "b2db926e",
   "metadata": {},
   "source": [
    "### --60---80--"
   ]
  },
  {
   "cell_type": "code",
   "execution_count": null,
   "id": "54d09392",
   "metadata": {},
   "outputs": [],
   "source": [
    "value:int = int(input(\"請輸入一個數值:\"))\n",
    "if value >= 120:\n",
    "    if value <= 220:\n",
    "        print(\"數值在120~220\")"
   ]
  },
  {
   "cell_type": "code",
   "execution_count": null,
   "id": "c4ddd00d",
   "metadata": {},
   "outputs": [],
   "source": [
    "value:int = int(input(\"請輸入一個數值:\"))\n",
    "if value < 120:\n",
    "    print(\"小於120\")\n",
    "    \n",
    "if value > 220:\n",
    "    print(\"大於220\")"
   ]
  },
  {
   "cell_type": "markdown",
   "id": "d27152b3",
   "metadata": {},
   "source": [
    "### and為同時 bool and bool(嚴格得到true)"
   ]
  },
  {
   "cell_type": "code",
   "execution_count": null,
   "id": "05274680",
   "metadata": {},
   "outputs": [],
   "source": [
    "value:int = int(input(\"請輸入一個數值:\"))\n",
    "if value >= 120 and value <= 220:  #使用邏輯運算子\n",
    "    print(\"數值在120~220\")"
   ]
  },
  {
   "cell_type": "markdown",
   "id": "72e48359",
   "metadata": {},
   "source": [
    "### or為或者 bool or bool(容易得到true)"
   ]
  },
  {
   "cell_type": "code",
   "execution_count": null,
   "id": "c22181d9",
   "metadata": {},
   "outputs": [],
   "source": [
    "value:int = int(input(\"請輸入一個數值:\"))\n",
    "if value < 120 or value > 220:\n",
    "    print(\"小於120或者大於220\")"
   ]
  },
  {
   "cell_type": "markdown",
   "id": "e26968a5",
   "metadata": {},
   "source": [
    "### 多項選擇 elif為else裡的if結合"
   ]
  },
  {
   "cell_type": "code",
   "execution_count": null,
   "id": "d705b2d5",
   "metadata": {},
   "outputs": [],
   "source": [
    "scores = int(input(\"score:\"))\n",
    "if scores >= 80:\n",
    "    print(\"優\")\n",
    "else:\n",
    "    if scores >= 60:\n",
    "        print(\"甲\")\n",
    "    else:\n",
    "        print(\"不及格\")"
   ]
  },
  {
   "cell_type": "code",
   "execution_count": null,
   "id": "29bff614",
   "metadata": {},
   "outputs": [],
   "source": [
    "#多項選擇\n",
    "scores = int(input(\"score:\"))\n",
    "if scores >= 80:\n",
    "    print(\"優\")\n",
    "elif scores >= 60:    \n",
    "    print(\"甲\")\n",
    "else:\n",
    "    print(\"不及格\")"
   ]
  }
 ],
 "metadata": {
  "kernelspec": {
   "display_name": "base",
   "language": "python",
   "name": "python3"
  },
  "language_info": {
   "codemirror_mode": {
    "name": "ipython",
    "version": 3
   },
   "file_extension": ".py",
   "mimetype": "text/x-python",
   "name": "python",
   "nbconvert_exporter": "python",
   "pygments_lexer": "ipython3",
   "version": "3.12.9"
  }
 },
 "nbformat": 4,
 "nbformat_minor": 5
}
