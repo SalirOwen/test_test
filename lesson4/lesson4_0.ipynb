{
 "cells": [
  {
   "cell_type": "markdown",
   "id": "2da76260",
   "metadata": {},
   "source": [
    "### 每一行都要執行\n",
    "### 主程式區塊一定會執行"
   ]
  },
  {
   "cell_type": "code",
   "execution_count": null,
   "id": "d4361cd5",
   "metadata": {},
   "outputs": [],
   "source": [
    "kg = eval(input(\"請輸入體重(單位kg)\"))\n",
    "height = eval(input(\"請輸入身高(單位cm)\"))\n",
    "BMI = kg / (height/ 100) ** 2\n",
    "\n",
    "print(f\"你的體重是{kg}kg\")\n",
    "print(f\"你的身高是{height}cm\")\n",
    "print(f\"你的BMI是{BMI:.2f}\")"
   ]
  },
  {
   "cell_type": "markdown",
   "id": "3f384b21",
   "metadata": {},
   "source": [
    "### 流程控制\n",
    "## if為判斷 ,迴圈為for in... ,\n",
    "## 判斷分為單向選擇和雙向選擇\n",
    "# if要有自己的程式區塊"
   ]
  },
  {
   "cell_type": "markdown",
   "id": "b6587519",
   "metadata": {},
   "source": [
    "### 單向選擇,有可能執行,也有可能不執行"
   ]
  },
  {
   "cell_type": "code",
   "execution_count": 1,
   "id": "84be82b8",
   "metadata": {},
   "outputs": [
    {
     "name": "stdout",
     "output_type": "stream",
     "text": [
      "這是True的程式區塊\n",
      "現在是True\n",
      "應用程式結束\n"
     ]
    }
   ],
   "source": [
    "if True:\n",
    "     print(\"這是True的程式區塊\")\n",
    "     print(\"現在是True\")\n",
    "print(\"應用程式結束\")      "
   ]
  },
  {
   "cell_type": "markdown",
   "id": "cd28ca4a",
   "metadata": {},
   "source": [
    "### 雙向選擇,一定執行其中一個程式區塊\n",
    "## 只要有else,一定執行其中一個程式區塊"
   ]
  },
  {
   "cell_type": "code",
   "execution_count": 4,
   "id": "dc6f0e81",
   "metadata": {},
   "outputs": [
    {
     "name": "stdout",
     "output_type": "stream",
     "text": [
      "這是False的程式區塊\n",
      "現在是False\n",
      "應用程式結束\n"
     ]
    }
   ],
   "source": [
    "if False:\n",
    "     print(\"這是True的程式區塊\")\n",
    "     print(\"現在是True\")\n",
    "else:\n",
    "     print(\"這是False的程式區塊\")\n",
    "     print(\"現在是False\")    \n",
    "print(\"應用程式結束\")    "
   ]
  },
  {
   "cell_type": "markdown",
   "id": "839559b8",
   "metadata": {},
   "source": [
    "### xxx:int是提示此行別為整數"
   ]
  },
  {
   "cell_type": "code",
   "execution_count": 8,
   "id": "752d211e",
   "metadata": {},
   "outputs": [
    {
     "name": "stdout",
     "output_type": "stream",
     "text": [
      "可以考駕照\n"
     ]
    }
   ],
   "source": [
    "age:int = int(input(\"請輸入年齡:\"))\n",
    "\n",
    "if age >= 18:\n",
    "    print(\"可以考駕照\")\n",
    "else:\n",
    "    print(\"不可以考駕照\")"
   ]
  },
  {
   "cell_type": "markdown",
   "id": "175c5b14",
   "metadata": {},
   "source": [
    "## 學生總分為300\n",
    "#有些學生可以加5%"
   ]
  },
  {
   "cell_type": "code",
   "execution_count": 27,
   "id": "01e79792",
   "metadata": {},
   "outputs": [
    {
     "ename": "ValueError",
     "evalue": "invalid literal for int() with base 10: 'kk'",
     "output_type": "error",
     "traceback": [
      "\u001b[31m---------------------------------------------------------------------------\u001b[39m",
      "\u001b[31mValueError\u001b[39m                                Traceback (most recent call last)",
      "\u001b[36mCell\u001b[39m\u001b[36m \u001b[39m\u001b[32mIn[27]\u001b[39m\u001b[32m, line 1\u001b[39m\n\u001b[32m----> \u001b[39m\u001b[32m1\u001b[39m scores:\u001b[38;5;28mint\u001b[39m = \u001b[38;5;28;43mint\u001b[39;49m\u001b[43m(\u001b[49m\u001b[38;5;28;43minput\u001b[39;49m\u001b[43m(\u001b[49m\u001b[33;43m\"\u001b[39;49m\u001b[33;43m請輸入學生分數(最高300分)\u001b[39;49m\u001b[33;43m\"\u001b[39;49m\u001b[43m)\u001b[49m\u001b[43m)\u001b[49m\n\u001b[32m      2\u001b[39m is_add:\u001b[38;5;28mstr\u001b[39m = \u001b[38;5;28minput\u001b[39m(\u001b[33m\"\u001b[39m\u001b[33m學生是否府和加分條件?(y,n)\u001b[39m\u001b[33m\"\u001b[39m)\n\u001b[32m      3\u001b[39m \u001b[38;5;28;01mif\u001b[39;00m(is_add == \u001b[33m\"\u001b[39m\u001b[33mY\u001b[39m\u001b[33m\"\u001b[39m):\n",
      "\u001b[31mValueError\u001b[39m: invalid literal for int() with base 10: 'kk'"
     ]
    }
   ],
   "source": [
    "scores:int = int(input(\"請輸入學生分數(最高300分)\"))\n",
    "is_add:str = input(\"學生是否府和加分條件?(y,n)\")\n",
    "if(is_add == \"Y\"):\n",
    "    scores *= 1.05\n",
    "print(round(scores))\n",
    "### round指的是四捨五入"
   ]
  },
  {
   "cell_type": "markdown",
   "id": "6260cbd9",
   "metadata": {},
   "source": [
    "### try後面空一格，選取程式碼後按tab"
   ]
  },
  {
   "cell_type": "code",
   "execution_count": null,
   "id": "e4ce07c6",
   "metadata": {},
   "outputs": [
    {
     "name": "stdout",
     "output_type": "stream",
     "text": [
      "300\n"
     ]
    }
   ],
   "source": [
    "#學生總分為300\n",
    "#有些學生可以加分5%\n",
    "try:\n",
    "    scores:int = int(input(\"請輸入學生分數(最高300分):\"))\n",
    "    is_add:str = input(\"學生是否符合加分條件?(y,n)\")\n",
    "    if(is_add == \"y\"):\n",
    "        scores *= 1.05\n",
    "        if scores > 300:\n",
    "            scores = 300\n",
    "    print(round(scores))        \n",
    "except:\n",
    "    print(\"輸入有錯誤\")\n"
   ]
  },
  {
   "cell_type": "markdown",
   "id": "82784477",
   "metadata": {},
   "source": [
    "### 除錯方式寫法"
   ]
  },
  {
   "cell_type": "code",
   "execution_count": 2,
   "id": "74157ab0",
   "metadata": {},
   "outputs": [
    {
     "name": "stdout",
     "output_type": "stream",
     "text": [
      "輸入有錯誤\n",
      "應用程式結束\n"
     ]
    }
   ],
   "source": [
    "\n",
    "try:\n",
    "    scores:int = int(input(\"請輸入學生分數(最高300分):\"))\n",
    "    if scores > 300:\n",
    "        raise Exception(\"輸入分數超過300\") #自已raise錯誤\n",
    "    is_add:str = input(\"學生是否符合加分條件?(y,n)\")\n",
    "    if(is_add == \"y\"):\n",
    "        scores *= 1.05\n",
    "        if scores > 300:\n",
    "            scores = 300    \n",
    "except ValueError:\n",
    "    print(\"輸入有錯誤\")\n",
    "except Exception as e:\n",
    "    print(e)\n",
    "else:\n",
    "    print(round(scores))\n",
    "print(\"應用程式結束\")"
   ]
  }
 ],
 "metadata": {
  "kernelspec": {
   "display_name": "base",
   "language": "python",
   "name": "python3"
  },
  "language_info": {
   "codemirror_mode": {
    "name": "ipython",
    "version": 3
   },
   "file_extension": ".py",
   "mimetype": "text/x-python",
   "name": "python",
   "nbconvert_exporter": "python",
   "pygments_lexer": "ipython3",
   "version": "3.12.9"
  }
 },
 "nbformat": 4,
 "nbformat_minor": 5
}
