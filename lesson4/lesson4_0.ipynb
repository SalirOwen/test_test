{
 "cells": [
  {
   "cell_type": "markdown",
   "id": "2da76260",
   "metadata": {},
   "source": [
    "### 每一行都要執行\n",
    "## "
   ]
  },
  {
   "cell_type": "code",
   "execution_count": null,
   "id": "d4361cd5",
   "metadata": {},
   "outputs": [],
   "source": [
    "kg = eval(input(\"請輸入體重(單位kg)\"))\n",
    "height = eval(input(\"請輸入身高(單位cm)\"))\n",
    "BMI = kg / (height/ 100) ** 2\n",
    "\n",
    "print(f\"你的體重是{kg}kg\")\n",
    "print(f\"你的身高是{height}cm\")\n",
    "print(f\"你的BMI是{BMI:.2f}\")"
   ]
  },
  {
   "cell_type": "markdown",
   "id": "3f384b21",
   "metadata": {},
   "source": [
    "### 流程控制\n",
    "## if為判斷 ,迴圈為for in... ,\n",
    "## 判斷分為單向選擇和雙向選擇\n",
    "# if要有自己的程式區塊"
   ]
  },
  {
   "cell_type": "markdown",
   "id": "b6587519",
   "metadata": {},
   "source": [
    "### 單向選擇,有可能執行,也有可能不執行"
   ]
  },
  {
   "cell_type": "code",
   "execution_count": 1,
   "id": "84be82b8",
   "metadata": {},
   "outputs": [
    {
     "name": "stdout",
     "output_type": "stream",
     "text": [
      "這是True的程式區塊\n",
      "現在是True\n",
      "應用程式結束\n"
     ]
    }
   ],
   "source": [
    "if True:\n",
    "     print(\"這是True的程式區塊\")\n",
    "     print(\"現在是True\")\n",
    "print(\"應用程式結束\")      "
   ]
  },
  {
   "cell_type": "markdown",
   "id": "cd28ca4a",
   "metadata": {},
   "source": [
    "### 雙向選擇,一定執行其中一個程式區塊\n",
    "## 只要有else,一定執行其中一個程式區塊"
   ]
  },
  {
   "cell_type": "code",
   "execution_count": 3,
   "id": "dc6f0e81",
   "metadata": {},
   "outputs": [
    {
     "name": "stdout",
     "output_type": "stream",
     "text": [
      "這是False的程式區塊\n",
      "現在是False\n",
      "應用程式結束\n"
     ]
    }
   ],
   "source": [
    "if False:\n",
    "     print(\"這是True的程式區塊\")\n",
    "     print(\"現在是True\")\n",
    "else:\n",
    "     print(\"這是False的程式區塊\")\n",
    "     print(\"現在是False\")    \n",
    "print(\"應用程式結束\")    "
   ]
  }
 ],
 "metadata": {
  "kernelspec": {
   "display_name": "base",
   "language": "python",
   "name": "python3"
  },
  "language_info": {
   "codemirror_mode": {
    "name": "ipython",
    "version": 3
   },
   "file_extension": ".py",
   "mimetype": "text/x-python",
   "name": "python",
   "nbconvert_exporter": "python",
   "pygments_lexer": "ipython3",
   "version": "3.12.9"
  }
 },
 "nbformat": 4,
 "nbformat_minor": 5
}
