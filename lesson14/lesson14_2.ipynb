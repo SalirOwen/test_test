{
 "cells": [
  {
   "cell_type": "markdown",
   "id": "d4650d24",
   "metadata": {},
   "source": [
    "### ndarry的索引(index),切割(slice)"
   ]
  },
  {
   "cell_type": "code",
   "execution_count": 1,
   "id": "7ed8f78d",
   "metadata": {},
   "outputs": [
    {
     "data": {
      "text/plain": [
       "array([7, 8, 9])"
      ]
     },
     "execution_count": 1,
     "metadata": {},
     "output_type": "execute_result"
    }
   ],
   "source": [
    "import numpy as np\n",
    "\n",
    "arr = np.arange(10)\n",
    "arr[0]\n",
    "arr[-1]\n",
    "arr[:3]\n",
    "arr[-3:]"
   ]
  },
  {
   "cell_type": "code",
   "execution_count": 2,
   "id": "91467b65",
   "metadata": {},
   "outputs": [
    {
     "data": {
      "text/plain": [
       "81"
      ]
     },
     "execution_count": 2,
     "metadata": {},
     "output_type": "execute_result"
    }
   ],
   "source": [
    "import random\n",
    "random.randint(50,100)"
   ]
  },
  {
   "cell_type": "code",
   "execution_count": 3,
   "id": "bdcadccc",
   "metadata": {},
   "outputs": [
    {
     "data": {
      "text/plain": [
       "(50, 5)"
      ]
     },
     "execution_count": 3,
     "metadata": {},
     "output_type": "execute_result"
    }
   ],
   "source": [
    "np.random.randint(50, 101, size=5)\n",
    "scores = np.random.randint(50,101, size=(50, 5))\n",
    "scores.size\n",
    "scores.shape"
   ]
  },
  {
   "cell_type": "code",
   "execution_count": 4,
   "id": "720e8bf2",
   "metadata": {},
   "outputs": [
    {
     "data": {
      "text/plain": [
       "array([[98],\n",
       "       [80],\n",
       "       [66],\n",
       "       [74],\n",
       "       [56],\n",
       "       [81],\n",
       "       [97],\n",
       "       [67],\n",
       "       [84],\n",
       "       [71],\n",
       "       [96],\n",
       "       [88],\n",
       "       [76],\n",
       "       [73],\n",
       "       [84],\n",
       "       [87],\n",
       "       [65],\n",
       "       [66],\n",
       "       [76],\n",
       "       [71],\n",
       "       [50],\n",
       "       [53],\n",
       "       [89],\n",
       "       [76],\n",
       "       [68],\n",
       "       [78],\n",
       "       [58],\n",
       "       [85],\n",
       "       [71],\n",
       "       [83],\n",
       "       [84],\n",
       "       [93],\n",
       "       [52],\n",
       "       [72],\n",
       "       [96],\n",
       "       [65],\n",
       "       [51],\n",
       "       [74],\n",
       "       [51],\n",
       "       [59],\n",
       "       [81],\n",
       "       [56],\n",
       "       [72],\n",
       "       [78],\n",
       "       [58],\n",
       "       [78],\n",
       "       [96],\n",
       "       [84],\n",
       "       [74],\n",
       "       [68]], dtype=int32)"
      ]
     },
     "execution_count": 4,
     "metadata": {},
     "output_type": "execute_result"
    }
   ],
   "source": [
    "scores[:,0]\n",
    "scores[:,0:1]"
   ]
  },
  {
   "cell_type": "code",
   "execution_count": 7,
   "id": "fec37d57",
   "metadata": {},
   "outputs": [
    {
     "data": {
      "text/plain": [
       "array([[98, 59, 95, 77, 87]], dtype=int32)"
      ]
     },
     "execution_count": 7,
     "metadata": {},
     "output_type": "execute_result"
    }
   ],
   "source": [
    "scores[0,:]\n",
    "scores[0:1,:]"
   ]
  },
  {
   "cell_type": "code",
   "execution_count": 6,
   "id": "bd141f05",
   "metadata": {},
   "outputs": [
    {
     "data": {
      "text/plain": [
       "array([83.2, 79.6, 79. , 84.4, 63.4, 73. , 85. , 81.2, 85.8, 69.6, 82.8,\n",
       "       70.8, 70.8, 74.4, 80.6, 84.8, 67.8, 74.6, 78. , 70.4, 76. , 65.2,\n",
       "       72. , 79. , 72.6, 71.4, 80.8, 60.6, 69.8, 63.6, 72.6, 67.6, 81.6,\n",
       "       67. , 80.6, 73. , 67.8, 75.6, 66. , 74.8, 77. , 76.4, 70.2, 75.6,\n",
       "       62.4, 73.2, 69.8, 78.2, 75.2, 72.6])"
      ]
     },
     "execution_count": 6,
     "metadata": {},
     "output_type": "execute_result"
    }
   ],
   "source": [
    "np.sum(scores,axis=1)\n",
    "np.mean(scores, axis=1)"
   ]
  },
  {
   "cell_type": "code",
   "execution_count": 8,
   "id": "90966c6b",
   "metadata": {},
   "outputs": [
    {
     "data": {
      "text/plain": [
       "array([False, False,  True,  True,  True])"
      ]
     },
     "execution_count": 8,
     "metadata": {},
     "output_type": "execute_result"
    }
   ],
   "source": [
    "#使用比較運算子\n",
    "arr = np.random.randn(5)\n",
    "arr > 0"
   ]
  },
  {
   "cell_type": "code",
   "execution_count": 9,
   "id": "d7b7a6a6",
   "metadata": {},
   "outputs": [
    {
     "data": {
      "text/plain": [
       "array([0, 0, 1, 1, 1])"
      ]
     },
     "execution_count": 9,
     "metadata": {},
     "output_type": "execute_result"
    }
   ],
   "source": [
    "np.where(arr > 0, 1, 0)"
   ]
  },
  {
   "cell_type": "code",
   "execution_count": 10,
   "id": "0db38d29",
   "metadata": {},
   "outputs": [
    {
     "data": {
      "text/plain": [
       "array([-1.34771912, -0.43255823,  1.        ,  1.        ,  1.        ])"
      ]
     },
     "execution_count": 10,
     "metadata": {},
     "output_type": "execute_result"
    }
   ],
   "source": [
    "np.where(arr > 0, 1, arr)"
   ]
  }
 ],
 "metadata": {
  "kernelspec": {
   "display_name": "python2_4",
   "language": "python",
   "name": "python3"
  },
  "language_info": {
   "codemirror_mode": {
    "name": "ipython",
    "version": 3
   },
   "file_extension": ".py",
   "mimetype": "text/x-python",
   "name": "python",
   "nbconvert_exporter": "python",
   "pygments_lexer": "ipython3",
   "version": "3.11.11"
  }
 },
 "nbformat": 4,
 "nbformat_minor": 5
}
