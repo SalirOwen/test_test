{
 "cells": [
  {
   "cell_type": "markdown",
   "id": "f05e648d",
   "metadata": {},
   "source": [
    "### 一組if一定最多執行一個程式區段\n"
   ]
  },
  {
   "cell_type": "code",
   "execution_count": null,
   "id": "f7ece6e4",
   "metadata": {},
   "outputs": [],
   "source": [
    "scores = int(input(\"請輸入學生分數0~100:\"))\n",
    "if scores < 60:\n",
    "    print(\"丁\")\n",
    "elif scores < 70:\n",
    "    print(\"丙\")\n",
    "elif scores < 80:\n",
    "    print(\"乙\")\n",
    "elif scores < 90:\n",
    "    print(\"甲\")\n",
    "else:\n",
    "    print(\"優\")"
   ]
  },
  {
   "cell_type": "markdown",
   "id": "54103709",
   "metadata": {},
   "source": [
    "### 組合2個條件\n",
    " - 巢狀判斷\n",
    " - 邏輯運算子(and或or)"
   ]
  },
  {
   "cell_type": "code",
   "execution_count": null,
   "id": "82b66226",
   "metadata": {},
   "outputs": [],
   "source": [
    "#國文100同時數學100-->1000元\n",
    "#國文100或者數學100-->500元\n",
    "#其他-->0元\n",
    "\n",
    "chinese = int(input(\"請輸入國文分數\"))\n",
    "math = int(input(\"請輸入數學分數\"))\n",
    "if chinese == 100 and math == 100:\n",
    "    print(\"獎金1000元\")\n",
    "elif chinese == 100 or math == 100:\n",
    "    print(\"獎金500元\")\n",
    "else:\n",
    "    print(\"獎金0元\")"
   ]
  },
  {
   "cell_type": "markdown",
   "id": "90c2f472",
   "metadata": {},
   "source": []
  }
 ],
 "metadata": {
  "kernelspec": {
   "display_name": "base",
   "language": "python",
   "name": "python3"
  },
  "language_info": {
   "name": "python",
   "version": "3.12.9"
  }
 },
 "nbformat": 4,
 "nbformat_minor": 5
}
