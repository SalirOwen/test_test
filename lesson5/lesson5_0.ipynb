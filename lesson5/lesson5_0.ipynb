{
 "cells": [
  {
   "cell_type": "markdown",
   "id": "f05e648d",
   "metadata": {},
   "source": [
    "### 一組if一定最多執行一個程式區段\n"
   ]
  },
  {
   "cell_type": "code",
   "execution_count": null,
   "id": "f7ece6e4",
   "metadata": {},
   "outputs": [],
   "source": [
    "scores = int(input(\"請輸入學生分數0~100:\"))\n",
    "if scores < 60:\n",
    "    print(\"丁\")\n",
    "elif scores < 70:\n",
    "    print(\"丙\")\n",
    "elif scores < 80:\n",
    "    print(\"乙\")\n",
    "elif scores < 90:\n",
    "    print(\"甲\")\n",
    "else:\n",
    "    print(\"優\")"
   ]
  }
 ],
 "metadata": {
  "kernelspec": {
   "display_name": "base",
   "language": "python",
   "name": "python3"
  },
  "language_info": {
   "name": "python",
   "version": "3.12.9"
  }
 },
 "nbformat": 4,
 "nbformat_minor": 5
}
