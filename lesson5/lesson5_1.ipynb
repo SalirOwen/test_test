{
 "cells": [
  {
   "cell_type": "markdown",
   "id": "ddb46f77",
   "metadata": {},
   "source": [
    "### 迴圈\n",
    "### for....in...."
   ]
  },
  {
   "cell_type": "code",
   "execution_count": null,
   "id": "64ecc29d",
   "metadata": {},
   "outputs": [],
   "source": [
    "#1~10相加總\n",
    "n = 0\n",
    "n += 1\n",
    "n += 2\n",
    "n += 3\n",
    "n += 4\n",
    "n += 5\n",
    "n += 6\n",
    "n += 7\n",
    "n += 8\n",
    "n += 9\n",
    "n += 10"
   ]
  },
  {
   "cell_type": "markdown",
   "id": "0fc33997",
   "metadata": {},
   "source": [
    "## range(stop)裡的stop為參數parameter\n",
    "## range(5)裡的5為引數值argument\n",
    "## range()為運算子\n",
    "## range(0,5)為串列資料Sequence，內涵0 1 2 3 4，所有的串列資料可被讀取iterable\n",
    "## for 自訂變數 in iterable:"
   ]
  },
  {
   "cell_type": "code",
   "execution_count": null,
   "id": "000608a4",
   "metadata": {},
   "outputs": [
    {
     "name": "stdout",
     "output_type": "stream",
     "text": [
      "0\n",
      "1\n",
      "2\n",
      "3\n",
      "4\n"
     ]
    }
   ],
   "source": [
    " for i in range(5):\n",
    "    print(i)"
   ]
  },
  {
   "cell_type": "code",
   "execution_count": 7,
   "id": "11ea9a7a",
   "metadata": {},
   "outputs": [
    {
     "name": "stdout",
     "output_type": "stream",
     "text": [
      "1\n",
      "2\n",
      "3\n",
      "4\n"
     ]
    }
   ],
   "source": [
    "for i in range(1,5):\n",
    "    print(i)"
   ]
  },
  {
   "cell_type": "markdown",
   "id": "e3a5b7c4",
   "metadata": {},
   "source": [
    "### range(start,stop,step=1)有3個參數，step=1為default value"
   ]
  },
  {
   "cell_type": "code",
   "execution_count": 24,
   "id": "01a18615",
   "metadata": {},
   "outputs": [
    {
     "name": "stdout",
     "output_type": "stream",
     "text": [
      "1\n",
      "3\n",
      "5\n",
      "7\n",
      "9\n"
     ]
    }
   ],
   "source": [
    "for i in range(1,10,2):\n",
    "    print(i)"
   ]
  },
  {
   "cell_type": "code",
   "execution_count": null,
   "id": "8b86be82",
   "metadata": {},
   "outputs": [
    {
     "name": "stdout",
     "output_type": "stream",
     "text": [
      "total=1275\n"
     ]
    }
   ],
   "source": [
    "n = int(input(\"請輸入n的值\"))\n",
    "total = 0\n",
    "for i in range(1,n+1):\n",
    "    total += i\n",
    "\n",
    "print(f\"total={total}\")"
   ]
  },
  {
   "cell_type": "markdown",
   "id": "60721492",
   "metadata": {},
   "source": [
    "### 巢狀迴圈"
   ]
  },
  {
   "cell_type": "code",
   "execution_count": 29,
   "id": "86caa121",
   "metadata": {},
   "outputs": [
    {
     "name": "stdout",
     "output_type": "stream",
     "text": [
      "i=1\n",
      "j=1 j=2 j=3 j=4 j=5 j=6 j=7 j=8 j=9 \n",
      "i=2\n",
      "j=1 j=2 j=3 j=4 j=5 j=6 j=7 j=8 j=9 \n",
      "i=3\n",
      "j=1 j=2 j=3 j=4 j=5 j=6 j=7 j=8 j=9 \n",
      "i=4\n",
      "j=1 j=2 j=3 j=4 j=5 j=6 j=7 j=8 j=9 \n",
      "i=5\n",
      "j=1 j=2 j=3 j=4 j=5 j=6 j=7 j=8 j=9 \n",
      "i=6\n",
      "j=1 j=2 j=3 j=4 j=5 j=6 j=7 j=8 j=9 \n",
      "i=7\n",
      "j=1 j=2 j=3 j=4 j=5 j=6 j=7 j=8 j=9 \n",
      "i=8\n",
      "j=1 j=2 j=3 j=4 j=5 j=6 j=7 j=8 j=9 \n",
      "i=9\n",
      "j=1 j=2 j=3 j=4 j=5 j=6 j=7 j=8 j=9 \n"
     ]
    }
   ],
   "source": [
    "for i in range(1,10):\n",
    "    print(f\"i={i}\")\n",
    "    for j in range(1,10):\n",
    "        print(f\"j={j}\",end=\" \")\n",
    "    print()"
   ]
  },
  {
   "cell_type": "markdown",
   "id": "21677491",
   "metadata": {},
   "source": [
    "### \\t是按tab鍵，定位點"
   ]
  },
  {
   "cell_type": "code",
   "execution_count": 32,
   "id": "3a2b5b0a",
   "metadata": {},
   "outputs": [
    {
     "name": "stdout",
     "output_type": "stream",
     "text": [
      "1*1=1\t 1*2=2\t 1*3=3\t 1*4=4\t 1*5=5\t 1*6=6\t 1*7=7\t 1*8=8\t 1*9=9\t \n",
      "2*1=2\t 2*2=4\t 2*3=6\t 2*4=8\t 2*5=10\t 2*6=12\t 2*7=14\t 2*8=16\t 2*9=18\t \n",
      "3*1=3\t 3*2=6\t 3*3=9\t 3*4=12\t 3*5=15\t 3*6=18\t 3*7=21\t 3*8=24\t 3*9=27\t \n",
      "4*1=4\t 4*2=8\t 4*3=12\t 4*4=16\t 4*5=20\t 4*6=24\t 4*7=28\t 4*8=32\t 4*9=36\t \n",
      "5*1=5\t 5*2=10\t 5*3=15\t 5*4=20\t 5*5=25\t 5*6=30\t 5*7=35\t 5*8=40\t 5*9=45\t \n",
      "6*1=6\t 6*2=12\t 6*3=18\t 6*4=24\t 6*5=30\t 6*6=36\t 6*7=42\t 6*8=48\t 6*9=54\t \n",
      "7*1=7\t 7*2=14\t 7*3=21\t 7*4=28\t 7*5=35\t 7*6=42\t 7*7=49\t 7*8=56\t 7*9=63\t \n",
      "8*1=8\t 8*2=16\t 8*3=24\t 8*4=32\t 8*5=40\t 8*6=48\t 8*7=56\t 8*8=64\t 8*9=72\t \n",
      "9*1=9\t 9*2=18\t 9*3=27\t 9*4=36\t 9*5=45\t 9*6=54\t 9*7=63\t 9*8=72\t 9*9=81\t \n"
     ]
    }
   ],
   "source": [
    "for i in range(1,10):\n",
    "    for j in range(1,10):\n",
    "        print(f\"{i}*{j}={i*j}\",end=\"\\t \")\n",
    "    print()"
   ]
  },
  {
   "cell_type": "markdown",
   "id": "318f37e7",
   "metadata": {},
   "source": [
    "### for..in..\n",
    "  -明確知道執行次數\n",
    "### while\n",
    "  -不明確知道執行的次數"
   ]
  }
 ],
 "metadata": {
  "kernelspec": {
   "display_name": "base",
   "language": "python",
   "name": "python3"
  },
  "language_info": {
   "codemirror_mode": {
    "name": "ipython",
    "version": 3
   },
   "file_extension": ".py",
   "mimetype": "text/x-python",
   "name": "python",
   "nbconvert_exporter": "python",
   "pygments_lexer": "ipython3",
   "version": "3.12.9"
  }
 },
 "nbformat": 4,
 "nbformat_minor": 5
}
