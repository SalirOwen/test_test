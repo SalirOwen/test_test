{
 "cells": [
  {
   "cell_type": "markdown",
   "id": "ddb46f77",
   "metadata": {},
   "source": [
    "### 迴圈\n",
    "### for....in...."
   ]
  },
  {
   "cell_type": "code",
   "execution_count": null,
   "id": "64ecc29d",
   "metadata": {},
   "outputs": [],
   "source": [
    "#1~10相加總\n",
    "n = 0\n",
    "n += 1\n",
    "n += 2\n",
    "n += 3\n",
    "n += 4\n",
    "n += 5\n",
    "n += 6\n",
    "n += 7\n",
    "n += 8\n",
    "n += 9\n",
    "n += 10"
   ]
  },
  {
   "cell_type": "markdown",
   "id": "0fc33997",
   "metadata": {},
   "source": [
    "## range(stop)裡的stop為參數parameter\n",
    "## range(5)裡的5為引數值argument\n",
    "## range()為運算子\n",
    "## range(0,5)為串列資料Sequence，內涵0 1 2 3 4，所有的串列資料可被讀取iterable\n",
    "## for 自訂變數 in iterable:"
   ]
  },
  {
   "cell_type": "code",
   "execution_count": null,
   "id": "000608a4",
   "metadata": {},
   "outputs": [
    {
     "name": "stdout",
     "output_type": "stream",
     "text": [
      "0\n",
      "1\n",
      "2\n",
      "3\n",
      "4\n"
     ]
    }
   ],
   "source": [
    " for i in range(5):\n",
    "    print(i)"
   ]
  },
  {
   "cell_type": "code",
   "execution_count": 7,
   "id": "11ea9a7a",
   "metadata": {},
   "outputs": [
    {
     "name": "stdout",
     "output_type": "stream",
     "text": [
      "1\n",
      "2\n",
      "3\n",
      "4\n"
     ]
    }
   ],
   "source": [
    "for i in range(1,5):\n",
    "    print(i)"
   ]
  },
  {
   "cell_type": "markdown",
   "id": "e3a5b7c4",
   "metadata": {},
   "source": [
    "### range(start,stop,step=1)有3個參數，step=1為default value"
   ]
  },
  {
   "cell_type": "code",
   "execution_count": 20,
   "id": "01a18615",
   "metadata": {},
   "outputs": [
    {
     "name": "stdout",
     "output_type": "stream",
     "text": [
      "1\n",
      "3\n",
      "5\n",
      "7\n",
      "9\n"
     ]
    }
   ],
   "source": [
    "for i in range(1,10,2):\n",
    "    print(i)"
   ]
  },
  {
   "cell_type": "code",
   "execution_count": 21,
   "id": "8b86be82",
   "metadata": {},
   "outputs": [
    {
     "name": "stdout",
     "output_type": "stream",
     "text": [
      "total=55\n"
     ]
    }
   ],
   "source": [
    "n = int(input(\"請輸入n的值\"))\n",
    "total = 0\n",
    "for i in range(1,n+1):\n",
    "    total += i\n",
    "\n",
    "print(f\"total={total}\")"
   ]
  }
 ],
 "metadata": {
  "kernelspec": {
   "display_name": "base",
   "language": "python",
   "name": "python3"
  },
  "language_info": {
   "codemirror_mode": {
    "name": "ipython",
    "version": 3
   },
   "file_extension": ".py",
   "mimetype": "text/x-python",
   "name": "python",
   "nbconvert_exporter": "python",
   "pygments_lexer": "ipython3",
   "version": "3.12.9"
  }
 },
 "nbformat": 4,
 "nbformat_minor": 5
}
