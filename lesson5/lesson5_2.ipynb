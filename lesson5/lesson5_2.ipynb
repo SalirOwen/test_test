{
 "cells": [
  {
   "cell_type": "markdown",
   "id": "97df84dd",
   "metadata": {},
   "source": [
    "### while -不知道執行的次數\n",
    "### while(條件式):True (如永遠都是true會無限迴圈)\n",
    "## step1:建立變數 --> 決定要不要執行迴圈\n",
    "## step2:使用變數建立條件式\n",
    "### step3:改變變數值"
   ]
  },
  {
   "cell_type": "code",
   "execution_count": 2,
   "id": "ef3b69c8",
   "metadata": {},
   "outputs": [
    {
     "name": "stdout",
     "output_type": "stream",
     "text": [
      "恭喜!已經存了4月,總共存了31000元\n"
     ]
    }
   ],
   "source": [
    "deposite = 0\n",
    "month = 0\n",
    "while(deposite<30000):\n",
    "    month += 1\n",
    "    input_value = int(input(f\"請輸入第{month}月份的存款\"))\n",
    "    deposite += input_value\n",
    "\n",
    "print(f\"恭喜!已經存了{month}月,總共存了{deposite}元\")"
   ]
  }
 ],
 "metadata": {
  "kernelspec": {
   "display_name": "base",
   "language": "python",
   "name": "python3"
  },
  "language_info": {
   "codemirror_mode": {
    "name": "ipython",
    "version": 3
   },
   "file_extension": ".py",
   "mimetype": "text/x-python",
   "name": "python",
   "nbconvert_exporter": "python",
   "pygments_lexer": "ipython3",
   "version": "3.12.9"
  }
 },
 "nbformat": 4,
 "nbformat_minor": 5
}
