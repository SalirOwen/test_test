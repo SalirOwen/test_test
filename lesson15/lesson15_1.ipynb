{
 "cells": [
  {
   "cell_type": "code",
   "execution_count": 1,
   "id": "f97f8739",
   "metadata": {},
   "outputs": [],
   "source": [
    "import numpy as np"
   ]
  },
  {
   "cell_type": "code",
   "execution_count": 2,
   "id": "94a7b3fd",
   "metadata": {},
   "outputs": [
    {
     "data": {
      "text/plain": [
       "array([[0., 0., 0., 0.],\n",
       "       [0., 0., 0., 0.],\n",
       "       [0., 0., 0., 0.]])"
      ]
     },
     "execution_count": 2,
     "metadata": {},
     "output_type": "execute_result"
    }
   ],
   "source": [
    "np.zeros((3, 4))"
   ]
  },
  {
   "cell_type": "code",
   "execution_count": 3,
   "id": "03549831",
   "metadata": {},
   "outputs": [
    {
     "data": {
      "text/plain": [
       "array([[1., 1., 1., 1.],\n",
       "       [1., 1., 1., 1.],\n",
       "       [1., 1., 1., 1.]])"
      ]
     },
     "execution_count": 3,
     "metadata": {},
     "output_type": "execute_result"
    }
   ],
   "source": [
    "np.ones((3,4))"
   ]
  },
  {
   "cell_type": "code",
   "execution_count": 4,
   "id": "939258f8",
   "metadata": {},
   "outputs": [
    {
     "data": {
      "text/plain": [
       "array([0. , 0.1, 0.2, 0.3, 0.4, 0.5, 0.6, 0.7, 0.8, 0.9])"
      ]
     },
     "execution_count": 4,
     "metadata": {},
     "output_type": "execute_result"
    }
   ],
   "source": [
    "np.arange(0,1,0.1)"
   ]
  },
  {
   "cell_type": "code",
   "execution_count": 5,
   "id": "769d843d",
   "metadata": {},
   "outputs": [
    {
     "data": {
      "text/plain": [
       "array([0.        , 0.11111111, 0.22222222, 0.33333333, 0.44444444,\n",
       "       0.55555556, 0.66666667, 0.77777778, 0.88888889, 1.        ])"
      ]
     },
     "execution_count": 5,
     "metadata": {},
     "output_type": "execute_result"
    }
   ],
   "source": [
    "np.linspace(0,1,10)"
   ]
  },
  {
   "cell_type": "code",
   "execution_count": 6,
   "id": "79cca318",
   "metadata": {},
   "outputs": [
    {
     "data": {
      "text/plain": [
       "array([[0.5778395 , 0.66112998, 0.78513613, 0.73179196],\n",
       "       [0.2010298 , 0.9812352 , 0.55760038, 0.12484463],\n",
       "       [0.26755507, 0.75792242, 0.56037133, 0.01469166]])"
      ]
     },
     "execution_count": 6,
     "metadata": {},
     "output_type": "execute_result"
    }
   ],
   "source": [
    "np.random.rand(3, 4)"
   ]
  },
  {
   "cell_type": "code",
   "execution_count": 9,
   "id": "9f592af7",
   "metadata": {},
   "outputs": [
    {
     "data": {
      "text/plain": [
       "array([[ 87,  74,  88,  76,  78],\n",
       "       [ 82,  53,  72,  69,  67],\n",
       "       [ 80,  90,  62, 100,  68],\n",
       "       [ 63,  92,  57,  74,  96],\n",
       "       [ 75,  68,  83,  72,  68],\n",
       "       [ 50,  63,  62,  98,  72],\n",
       "       [ 79,  63,  64,  94,  91],\n",
       "       [ 92,  58,  88,  53,  67],\n",
       "       [ 74,  96,  88,  89,  99],\n",
       "       [ 94,  65,  84,  58,  90],\n",
       "       [ 93,  66,  87,  55,  51],\n",
       "       [ 54,  76,  93,  73,  84],\n",
       "       [ 86,  53,  86,  86,  99],\n",
       "       [ 84,  91,  68,  65,  55],\n",
       "       [ 68,  55,  55,  98,  93],\n",
       "       [ 50,  82,  91,  71,  98],\n",
       "       [ 58,  62,  86,  83,  81],\n",
       "       [ 58,  55,  69,  86,  96],\n",
       "       [ 92,  95,  50,  95,  80],\n",
       "       [ 54,  91,  99,  92,  96],\n",
       "       [ 98,  98,  60,  51,  63],\n",
       "       [ 82,  59,  75, 100,  61],\n",
       "       [ 76,  82,  50,  55,  79],\n",
       "       [ 99,  87,  64,  60,  69],\n",
       "       [ 68,  50,  61,  77,  80],\n",
       "       [ 87,  54,  86,  93,  76],\n",
       "       [ 71,  99,  52,  96,  93],\n",
       "       [ 58,  86,  92,  90,  94],\n",
       "       [ 51,  55,  67,  93,  68],\n",
       "       [ 92,  64,  74,  51,  59],\n",
       "       [ 76,  94,  60,  90,  59],\n",
       "       [ 56,  80,  95,  87,  81],\n",
       "       [ 59,  89,  53,  57,  70],\n",
       "       [ 81,  55,  63,  77,  58],\n",
       "       [ 55,  61,  59,  63,  91],\n",
       "       [ 94,  86,  95,  89,  99],\n",
       "       [ 66,  53,  93,  95,  70],\n",
       "       [ 67,  57,  89,  90,  95],\n",
       "       [ 93,  60,  89,  81,  96],\n",
       "       [ 81,  93,  58,  80,  86],\n",
       "       [ 73,  82,  59,  90,  95],\n",
       "       [ 69,  73,  68,  78,  74],\n",
       "       [ 50,  74,  95,  81,  59],\n",
       "       [ 94,  68,  89,  80,  92],\n",
       "       [ 81,  88,  62,  71,  89],\n",
       "       [ 88, 100,  93,  81,  78],\n",
       "       [ 59,  56,  82,  64,  79],\n",
       "       [ 97,  65,  92,  65,  55],\n",
       "       [ 62,  84,  94,  75,  70],\n",
       "       [ 84,  51,  76,  76,  79]], dtype=int32)"
      ]
     },
     "execution_count": 9,
     "metadata": {},
     "output_type": "execute_result"
    }
   ],
   "source": [
    "scores = np.random.randint(50,101,size=(50, 5))\n",
    "scores"
   ]
  }
 ],
 "metadata": {
  "kernelspec": {
   "display_name": "python2_4",
   "language": "python",
   "name": "python3"
  },
  "language_info": {
   "codemirror_mode": {
    "name": "ipython",
    "version": 3
   },
   "file_extension": ".py",
   "mimetype": "text/x-python",
   "name": "python",
   "nbconvert_exporter": "python",
   "pygments_lexer": "ipython3",
   "version": "3.11.11"
  }
 },
 "nbformat": 4,
 "nbformat_minor": 5
}
