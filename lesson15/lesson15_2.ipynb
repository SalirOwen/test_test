{
 "cells": [
  {
   "cell_type": "markdown",
   "id": "f1fa9154",
   "metadata": {},
   "source": [
    "https://www.perplexity.ai/search/27854047-0059-44b3-b1ed-b6dbdddd6505"
   ]
  },
  {
   "cell_type": "markdown",
   "id": "a26d04de",
   "metadata": {},
   "source": [
    "### numpy的索引和切割"
   ]
  },
  {
   "cell_type": "code",
   "execution_count": 1,
   "id": "b054376b",
   "metadata": {},
   "outputs": [
    {
     "data": {
      "text/plain": [
       "array([[93, 57, 77, 97, 86],\n",
       "       [61, 77, 66, 91, 70],\n",
       "       [78, 66, 50, 92, 90],\n",
       "       [74, 87, 59, 68, 75],\n",
       "       [97, 82, 92, 58, 90]], dtype=int32)"
      ]
     },
     "execution_count": 1,
     "metadata": {},
     "output_type": "execute_result"
    }
   ],
   "source": [
    "import numpy as np\n",
    "scores = np.random.randint(50,101,size=(5,5))\n",
    "scores"
   ]
  },
  {
   "cell_type": "code",
   "execution_count": 2,
   "id": "c925e3e6",
   "metadata": {},
   "outputs": [
    {
     "data": {
      "text/plain": [
       "array([[77, 97, 86],\n",
       "       [66, 91, 70],\n",
       "       [50, 92, 90]], dtype=int32)"
      ]
     },
     "execution_count": 2,
     "metadata": {},
     "output_type": "execute_result"
    }
   ],
   "source": [
    "scores[:3,2:]"
   ]
  },
  {
   "cell_type": "code",
   "execution_count": 3,
   "id": "677ded4c",
   "metadata": {},
   "outputs": [
    {
     "data": {
      "text/plain": [
       "array([[97, 82, 92, 58, 90]], dtype=int32)"
      ]
     },
     "execution_count": 3,
     "metadata": {},
     "output_type": "execute_result"
    }
   ],
   "source": [
    "scores[4]\n",
    "scores[4,:]\n",
    "scores[4:,:]"
   ]
  },
  {
   "cell_type": "code",
   "execution_count": 4,
   "id": "4b334ae9",
   "metadata": {},
   "outputs": [
    {
     "data": {
      "text/plain": [
       "array([[93, 57],\n",
       "       [61, 77],\n",
       "       [78, 66],\n",
       "       [74, 87],\n",
       "       [97, 82]], dtype=int32)"
      ]
     },
     "execution_count": 4,
     "metadata": {},
     "output_type": "execute_result"
    }
   ],
   "source": [
    "scores[:,:2]"
   ]
  },
  {
   "cell_type": "markdown",
   "id": "dc30c5bc",
   "metadata": {},
   "source": [
    "### numpy的統計工具"
   ]
  },
  {
   "cell_type": "code",
   "execution_count": 6,
   "id": "4906c549",
   "metadata": {},
   "outputs": [
    {
     "data": {
      "text/plain": [
       "array([[68, 58, 76, 81, 82],\n",
       "       [53, 57, 69, 53, 56],\n",
       "       [87, 55, 95, 57, 77],\n",
       "       [96, 89, 99, 50, 75],\n",
       "       [60, 75, 99, 74, 89]], dtype=int32)"
      ]
     },
     "execution_count": 6,
     "metadata": {},
     "output_type": "execute_result"
    }
   ],
   "source": [
    "scores = np.random.randint(50,101,size=(5,5))\n",
    "scores"
   ]
  },
  {
   "cell_type": "code",
   "execution_count": 7,
   "id": "8401a0f1",
   "metadata": {},
   "outputs": [
    {
     "data": {
      "text/plain": [
       "array([365, 288, 371, 409, 397], dtype=int32)"
      ]
     },
     "execution_count": 7,
     "metadata": {},
     "output_type": "execute_result"
    }
   ],
   "source": [
    "scores[:,0] + scores[:,1] + scores[:,2] + scores[:,3] + scores[:,4]"
   ]
  },
  {
   "cell_type": "code",
   "execution_count": 9,
   "id": "3035e67e",
   "metadata": {},
   "outputs": [
    {
     "data": {
      "text/plain": [
       "array([365, 288, 371, 409, 397])"
      ]
     },
     "execution_count": 9,
     "metadata": {},
     "output_type": "execute_result"
    }
   ],
   "source": [
    "#加總\n",
    "np.sum(scores,axis=1)"
   ]
  },
  {
   "cell_type": "code",
   "execution_count": 10,
   "id": "94f754bc",
   "metadata": {},
   "outputs": [
    {
     "data": {
      "text/plain": [
       "array([73. , 57.6, 74.2, 81.8, 79.4])"
      ]
     },
     "execution_count": 10,
     "metadata": {},
     "output_type": "execute_result"
    }
   ],
   "source": [
    "#平均\n",
    "np.mean(scores, axis=1)"
   ]
  },
  {
   "cell_type": "code",
   "execution_count": 11,
   "id": "4037fd14",
   "metadata": {},
   "outputs": [
    {
     "data": {
      "text/plain": [
       "array([82, 69, 95, 99, 99], dtype=int32)"
      ]
     },
     "execution_count": 11,
     "metadata": {},
     "output_type": "execute_result"
    }
   ],
   "source": [
    "#最大\n",
    "np.max(scores,axis=1)"
   ]
  },
  {
   "cell_type": "code",
   "execution_count": 12,
   "id": "6df8eaaf",
   "metadata": {},
   "outputs": [
    {
     "data": {
      "text/plain": [
       "array([58, 53, 55, 50, 60], dtype=int32)"
      ]
     },
     "execution_count": 12,
     "metadata": {},
     "output_type": "execute_result"
    }
   ],
   "source": [
    "#最小\n",
    "np.min(scores,axis=1)"
   ]
  },
  {
   "cell_type": "code",
   "execution_count": 13,
   "id": "100add3c",
   "metadata": {},
   "outputs": [
    {
     "data": {
      "text/plain": [
       "array([73. , 57.6, 74.2, 81.8, 79.4])"
      ]
     },
     "execution_count": 13,
     "metadata": {},
     "output_type": "execute_result"
    }
   ],
   "source": [
    "#中間數\n",
    "np.mean(scores,axis=1)"
   ]
  },
  {
   "cell_type": "code",
   "execution_count": 14,
   "id": "a0139c31",
   "metadata": {},
   "outputs": [
    {
     "data": {
      "text/plain": [
       "array([ 8.98888202,  5.91945943, 15.9298462 , 17.92651667, 13.42534916])"
      ]
     },
     "execution_count": 14,
     "metadata": {},
     "output_type": "execute_result"
    }
   ],
   "source": [
    "#標準差\n",
    "np.std(scores,axis=1)"
   ]
  }
 ],
 "metadata": {
  "kernelspec": {
   "display_name": "python2_4",
   "language": "python",
   "name": "python3"
  },
  "language_info": {
   "codemirror_mode": {
    "name": "ipython",
    "version": 3
   },
   "file_extension": ".py",
   "mimetype": "text/x-python",
   "name": "python",
   "nbconvert_exporter": "python",
   "pygments_lexer": "ipython3",
   "version": "3.11.11"
  }
 },
 "nbformat": 4,
 "nbformat_minor": 5
}
