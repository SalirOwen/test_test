{
 "cells": [
  {
   "cell_type": "markdown",
   "id": "4e429329",
   "metadata": {},
   "source": [
    "https://www.perplexity.ai/search/541099c9-ea3f-4aaa-98b2-53af4156f3cc"
   ]
  },
  {
   "cell_type": "markdown",
   "id": "023e0a1b",
   "metadata": {},
   "source": [
    "### 需要安裝jinja2"
   ]
  },
  {
   "cell_type": "code",
   "execution_count": 7,
   "id": "59b12228",
   "metadata": {},
   "outputs": [
    {
     "data": {
      "text/html": [
       "<div>\n",
       "<style scoped>\n",
       "    .dataframe tbody tr th:only-of-type {\n",
       "        vertical-align: middle;\n",
       "    }\n",
       "\n",
       "    .dataframe tbody tr th {\n",
       "        vertical-align: top;\n",
       "    }\n",
       "\n",
       "    .dataframe thead th {\n",
       "        text-align: right;\n",
       "    }\n",
       "</style>\n",
       "<table border=\"1\" class=\"dataframe\">\n",
       "  <thead>\n",
       "    <tr style=\"text-align: right;\">\n",
       "      <th></th>\n",
       "      <th>strings</th>\n",
       "      <th>ints</th>\n",
       "      <th>floats</th>\n",
       "    </tr>\n",
       "  </thead>\n",
       "  <tbody>\n",
       "    <tr>\n",
       "      <th>0</th>\n",
       "      <td>Adam</td>\n",
       "      <td>1</td>\n",
       "      <td>1.123</td>\n",
       "    </tr>\n",
       "    <tr>\n",
       "      <th>1</th>\n",
       "      <td>Mike</td>\n",
       "      <td>3</td>\n",
       "      <td>1000.230</td>\n",
       "    </tr>\n",
       "  </tbody>\n",
       "</table>\n",
       "</div>"
      ],
      "text/plain": [
       "  strings  ints    floats\n",
       "0    Adam     1     1.123\n",
       "1    Mike     3  1000.230"
      ]
     },
     "metadata": {},
     "output_type": "display_data"
    }
   ],
   "source": [
    "#Styler.format()\n",
    "#Style.format_index()\n",
    "#Style.relabel_index()\n",
    "\n",
    "import pandas as pd\n",
    "import numpy as np \n",
    "\n",
    "df = pd.DataFrame({\n",
    "    \"strings\": [\"Adam\", \"Mike\"],\n",
    "    \"ints\": [1, 3],\n",
    "    \"floats\": [1.123, 1000.23]\n",
    "})\n",
    "type(df.style)\n",
    "\n",
    "display(df)\n",
    "s = df.style\\\n",
    ".format(precision=3, thousands=\",\", decimal='.')\\\n",
    ".format_index(str.upper,axis=1)\\\n",
    ".relabel_index([\"列1\",\"列2\"])\n",
    "\n",
    "    "
   ]
  }
 ],
 "metadata": {
  "kernelspec": {
   "display_name": "python2_4",
   "language": "python",
   "name": "python3"
  },
  "language_info": {
   "codemirror_mode": {
    "name": "ipython",
    "version": 3
   },
   "file_extension": ".py",
   "mimetype": "text/x-python",
   "name": "python",
   "nbconvert_exporter": "python",
   "pygments_lexer": "ipython3",
   "version": "3.11.11"
  }
 },
 "nbformat": 4,
 "nbformat_minor": 5
}
